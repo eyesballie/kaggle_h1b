{
 "cells": [
  {
   "cell_type": "code",
   "execution_count": 70,
   "metadata": {
    "collapsed": false
   },
   "outputs": [
    {
     "name": "stdout",
     "output_type": "stream",
     "text": [
      "Populating the interactive namespace from numpy and matplotlib\n"
     ]
    }
   ],
   "source": [
    "import pandas as pd\n",
    "%pylab inline\n",
    "import warnings\n",
    "warnings.filterwarnings('ignore')\n",
    "import matplotlib.pyplot as plt\n",
    "% matplotlib inline\n",
    "import seaborn as sns\n",
    "import re\n",
    "import plotly.plotly as py\n",
    "py.sign_in('eyesball', 'XqpgthzyA6xt7IQpMEF5')"
   ]
  },
  {
   "cell_type": "code",
   "execution_count": 71,
   "metadata": {
    "collapsed": true
   },
   "outputs": [],
   "source": [
    "data = pd.read_csv('h1b_kaggle.csv')\n",
    "data = data.dropna(how='all')"
   ]
  },
  {
   "cell_type": "code",
   "execution_count": 72,
   "metadata": {
    "collapsed": false,
    "scrolled": true
   },
   "outputs": [
    {
     "data": {
      "text/plain": [
       "(3002458, 11)"
      ]
     },
     "execution_count": 72,
     "metadata": {},
     "output_type": "execute_result"
    }
   ],
   "source": [
    "data.shape"
   ]
  },
  {
   "cell_type": "code",
   "execution_count": 73,
   "metadata": {
    "collapsed": false
   },
   "outputs": [
    {
     "data": {
      "text/plain": [
       "Index(['Unnamed: 0', 'CASE_STATUS', 'EMPLOYER_NAME', 'SOC_NAME', 'JOB_TITLE',\n",
       "       'FULL_TIME_POSITION', 'PREVAILING_WAGE', 'YEAR', 'WORKSITE', 'lon',\n",
       "       'lat'],\n",
       "      dtype='object')"
      ]
     },
     "execution_count": 73,
     "metadata": {},
     "output_type": "execute_result"
    }
   ],
   "source": [
    "data.columns"
   ]
  },
  {
   "cell_type": "code",
   "execution_count": 74,
   "metadata": {
    "collapsed": false,
    "scrolled": true
   },
   "outputs": [
    {
     "data": {
      "text/html": [
       "<div>\n",
       "<table border=\"1\" class=\"dataframe\">\n",
       "  <thead>\n",
       "    <tr style=\"text-align: right;\">\n",
       "      <th></th>\n",
       "      <th>Unnamed: 0</th>\n",
       "      <th>CASE_STATUS</th>\n",
       "      <th>EMPLOYER_NAME</th>\n",
       "      <th>SOC_NAME</th>\n",
       "      <th>JOB_TITLE</th>\n",
       "      <th>FULL_TIME_POSITION</th>\n",
       "      <th>PREVAILING_WAGE</th>\n",
       "      <th>YEAR</th>\n",
       "      <th>WORKSITE</th>\n",
       "      <th>lon</th>\n",
       "      <th>lat</th>\n",
       "    </tr>\n",
       "  </thead>\n",
       "  <tbody>\n",
       "    <tr>\n",
       "      <th>0</th>\n",
       "      <td>1</td>\n",
       "      <td>CERTIFIED-WITHDRAWN</td>\n",
       "      <td>UNIVERSITY OF MICHIGAN</td>\n",
       "      <td>BIOCHEMISTS AND BIOPHYSICISTS</td>\n",
       "      <td>POSTDOCTORAL RESEARCH FELLOW</td>\n",
       "      <td>N</td>\n",
       "      <td>36067.0</td>\n",
       "      <td>2016.0</td>\n",
       "      <td>ANN ARBOR, MICHIGAN</td>\n",
       "      <td>-83.743038</td>\n",
       "      <td>42.280826</td>\n",
       "    </tr>\n",
       "    <tr>\n",
       "      <th>1</th>\n",
       "      <td>2</td>\n",
       "      <td>CERTIFIED-WITHDRAWN</td>\n",
       "      <td>GOODMAN NETWORKS, INC.</td>\n",
       "      <td>CHIEF EXECUTIVES</td>\n",
       "      <td>CHIEF OPERATING OFFICER</td>\n",
       "      <td>Y</td>\n",
       "      <td>242674.0</td>\n",
       "      <td>2016.0</td>\n",
       "      <td>PLANO, TEXAS</td>\n",
       "      <td>-96.698886</td>\n",
       "      <td>33.019843</td>\n",
       "    </tr>\n",
       "    <tr>\n",
       "      <th>2</th>\n",
       "      <td>3</td>\n",
       "      <td>CERTIFIED-WITHDRAWN</td>\n",
       "      <td>PORTS AMERICA GROUP, INC.</td>\n",
       "      <td>CHIEF EXECUTIVES</td>\n",
       "      <td>CHIEF PROCESS OFFICER</td>\n",
       "      <td>Y</td>\n",
       "      <td>193066.0</td>\n",
       "      <td>2016.0</td>\n",
       "      <td>JERSEY CITY, NEW JERSEY</td>\n",
       "      <td>-74.077642</td>\n",
       "      <td>40.728158</td>\n",
       "    </tr>\n",
       "    <tr>\n",
       "      <th>3</th>\n",
       "      <td>4</td>\n",
       "      <td>CERTIFIED-WITHDRAWN</td>\n",
       "      <td>GATES CORPORATION, A WHOLLY-OWNED SUBSIDIARY O...</td>\n",
       "      <td>CHIEF EXECUTIVES</td>\n",
       "      <td>REGIONAL PRESIDEN, AMERICAS</td>\n",
       "      <td>Y</td>\n",
       "      <td>220314.0</td>\n",
       "      <td>2016.0</td>\n",
       "      <td>DENVER, COLORADO</td>\n",
       "      <td>-104.990251</td>\n",
       "      <td>39.739236</td>\n",
       "    </tr>\n",
       "    <tr>\n",
       "      <th>4</th>\n",
       "      <td>5</td>\n",
       "      <td>WITHDRAWN</td>\n",
       "      <td>PEABODY INVESTMENTS CORP.</td>\n",
       "      <td>CHIEF EXECUTIVES</td>\n",
       "      <td>PRESIDENT MONGOLIA AND INDIA</td>\n",
       "      <td>Y</td>\n",
       "      <td>157518.4</td>\n",
       "      <td>2016.0</td>\n",
       "      <td>ST. LOUIS, MISSOURI</td>\n",
       "      <td>-90.199404</td>\n",
       "      <td>38.627003</td>\n",
       "    </tr>\n",
       "  </tbody>\n",
       "</table>\n",
       "</div>"
      ],
      "text/plain": [
       "   Unnamed: 0          CASE_STATUS  \\\n",
       "0           1  CERTIFIED-WITHDRAWN   \n",
       "1           2  CERTIFIED-WITHDRAWN   \n",
       "2           3  CERTIFIED-WITHDRAWN   \n",
       "3           4  CERTIFIED-WITHDRAWN   \n",
       "4           5            WITHDRAWN   \n",
       "\n",
       "                                       EMPLOYER_NAME  \\\n",
       "0                             UNIVERSITY OF MICHIGAN   \n",
       "1                             GOODMAN NETWORKS, INC.   \n",
       "2                          PORTS AMERICA GROUP, INC.   \n",
       "3  GATES CORPORATION, A WHOLLY-OWNED SUBSIDIARY O...   \n",
       "4                          PEABODY INVESTMENTS CORP.   \n",
       "\n",
       "                        SOC_NAME                     JOB_TITLE  \\\n",
       "0  BIOCHEMISTS AND BIOPHYSICISTS  POSTDOCTORAL RESEARCH FELLOW   \n",
       "1               CHIEF EXECUTIVES       CHIEF OPERATING OFFICER   \n",
       "2               CHIEF EXECUTIVES         CHIEF PROCESS OFFICER   \n",
       "3               CHIEF EXECUTIVES   REGIONAL PRESIDEN, AMERICAS   \n",
       "4               CHIEF EXECUTIVES  PRESIDENT MONGOLIA AND INDIA   \n",
       "\n",
       "  FULL_TIME_POSITION  PREVAILING_WAGE    YEAR                 WORKSITE  \\\n",
       "0                  N          36067.0  2016.0      ANN ARBOR, MICHIGAN   \n",
       "1                  Y         242674.0  2016.0             PLANO, TEXAS   \n",
       "2                  Y         193066.0  2016.0  JERSEY CITY, NEW JERSEY   \n",
       "3                  Y         220314.0  2016.0         DENVER, COLORADO   \n",
       "4                  Y         157518.4  2016.0      ST. LOUIS, MISSOURI   \n",
       "\n",
       "          lon        lat  \n",
       "0  -83.743038  42.280826  \n",
       "1  -96.698886  33.019843  \n",
       "2  -74.077642  40.728158  \n",
       "3 -104.990251  39.739236  \n",
       "4  -90.199404  38.627003  "
      ]
     },
     "execution_count": 74,
     "metadata": {},
     "output_type": "execute_result"
    }
   ],
   "source": [
    "data.head()"
   ]
  },
  {
   "cell_type": "code",
   "execution_count": 75,
   "metadata": {
    "collapsed": false,
    "scrolled": true
   },
   "outputs": [
    {
     "data": {
      "text/plain": [
       "Unnamed: 0                 0\n",
       "CASE_STATUS               13\n",
       "EMPLOYER_NAME             59\n",
       "SOC_NAME               17734\n",
       "JOB_TITLE                 43\n",
       "FULL_TIME_POSITION        15\n",
       "PREVAILING_WAGE           85\n",
       "YEAR                      13\n",
       "WORKSITE                   0\n",
       "lon                   107242\n",
       "lat                   107242\n",
       "dtype: int64"
      ]
     },
     "execution_count": 75,
     "metadata": {},
     "output_type": "execute_result"
    }
   ],
   "source": [
    "data.isnull().sum()"
   ]
  },
  {
   "cell_type": "code",
   "execution_count": 76,
   "metadata": {
    "collapsed": true
   },
   "outputs": [],
   "source": [
    "data.dropna(inplace=True)"
   ]
  },
  {
   "cell_type": "code",
   "execution_count": 77,
   "metadata": {
    "collapsed": false
   },
   "outputs": [
    {
     "data": {
      "text/plain": [
       "(2877765, 11)"
      ]
     },
     "execution_count": 77,
     "metadata": {},
     "output_type": "execute_result"
    }
   ],
   "source": [
    "data.shape"
   ]
  },
  {
   "cell_type": "markdown",
   "metadata": {},
   "source": [
    "** Droped 4.15% of the raw data. **"
   ]
  },
  {
   "cell_type": "markdown",
   "metadata": {},
   "source": [
    "### Columns ###"
   ]
  },
  {
   "cell_type": "markdown",
   "metadata": {},
   "source": [
    "** 1. Case Status**"
   ]
  },
  {
   "cell_type": "code",
   "execution_count": 78,
   "metadata": {
    "collapsed": false
   },
   "outputs": [
    {
     "data": {
      "text/plain": [
       "array(['CERTIFIED-WITHDRAWN', 'WITHDRAWN', 'CERTIFIED', 'DENIED',\n",
       "       'REJECTED', 'INVALIDATED',\n",
       "       'PENDING QUALITY AND COMPLIANCE REVIEW - UNASSIGNED'], dtype=object)"
      ]
     },
     "execution_count": 78,
     "metadata": {},
     "output_type": "execute_result"
    }
   ],
   "source": [
    "case_status = data.CASE_STATUS.unique()\n",
    "case_status"
   ]
  },
  {
   "cell_type": "code",
   "execution_count": 79,
   "metadata": {
    "collapsed": false
   },
   "outputs": [
    {
     "data": {
      "text/plain": [
       "[195721, 84752, 2512114, 85161, 1, 1, 15]"
      ]
     },
     "execution_count": 79,
     "metadata": {},
     "output_type": "execute_result"
    }
   ],
   "source": [
    "status_freq = [0]*7                        # petitions distributions by status\n",
    "for i in range(0,7):\n",
    "    status_freq[i] = data[data.CASE_STATUS==case_status[i]]['CASE_STATUS'].count()\n",
    "\n",
    "#status_freq[7] = data['CASE_STATUS'].isnull().sum()\n",
    "status_freq"
   ]
  },
  {
   "cell_type": "code",
   "execution_count": 80,
   "metadata": {
    "collapsed": false,
    "scrolled": false
   },
   "outputs": [
    {
     "data": {
      "image/png": "[encoded data removed]",
      "text/plain": [
       "<matplotlib.figure.Figure at 0x17c1ab9e8>"
      ]
     },
     "metadata": {},
     "output_type": "display_data"
    },
    {
     "data": {
      "text/plain": [
       "<matplotlib.figure.Figure at 0x1164e2a20>"
      ]
     },
     "metadata": {},
     "output_type": "display_data"
    }
   ],
   "source": [
    "import matplotlib.pyplot as plt\n",
    " \n",
    "# Plot\n",
    "plt.pie(status_freq[:4], labels=case_status[:4], colors=sns.color_palette(\"muted\", n_colors=4), autopct='%1.1f%%')\n",
    "plt.axis('equal')\n",
    "plt.figure(figsize=(2,2))\n",
    "plt.show()"
   ]
  },
  {
   "cell_type": "markdown",
   "metadata": {},
   "source": [
    "** 2. Employer Name **"
   ]
  },
  {
   "cell_type": "code",
   "execution_count": 81,
   "metadata": {
    "collapsed": false,
    "scrolled": true
   },
   "outputs": [
    {
     "name": "stdout",
     "output_type": "stream",
     "text": [
      "The total number of companies filed for H1b petition is 214982.\n"
     ]
    }
   ],
   "source": [
    "print (\"The total number of companies filed for H1b petition is \" + str(len(data.EMPLOYER_NAME.unique())) + \".\")"
   ]
  },
  {
   "cell_type": "markdown",
   "metadata": {},
   "source": [
    "** Now Sort the companies based on the petition case number. **"
   ]
  },
  {
   "cell_type": "code",
   "execution_count": 82,
   "metadata": {
    "collapsed": false
   },
   "outputs": [],
   "source": [
    "top_employers = data['EMPLOYER_NAME'].value_counts()[:30]\n",
    "top_employers_df = top_employers.to_frame()"
   ]
  },
  {
   "cell_type": "code",
   "execution_count": 83,
   "metadata": {
    "collapsed": false
   },
   "outputs": [
    {
     "data": {
      "text/html": [
       "<div>\n",
       "<table border=\"1\" class=\"dataframe\">\n",
       "  <thead>\n",
       "    <tr style=\"text-align: right;\">\n",
       "      <th></th>\n",
       "      <th>EMPLOYER_NAME</th>\n",
       "      <th>PERCENTAGE</th>\n",
       "    </tr>\n",
       "  </thead>\n",
       "  <tbody>\n",
       "    <tr>\n",
       "      <th>INFOSYS LIMITED</th>\n",
       "      <td>130257</td>\n",
       "      <td>4.34</td>\n",
       "    </tr>\n",
       "    <tr>\n",
       "      <th>TATA CONSULTANCY SERVICES LIMITED</th>\n",
       "      <td>64273</td>\n",
       "      <td>2.14</td>\n",
       "    </tr>\n",
       "    <tr>\n",
       "      <th>WIPRO LIMITED</th>\n",
       "      <td>45673</td>\n",
       "      <td>1.52</td>\n",
       "    </tr>\n",
       "    <tr>\n",
       "      <th>DELOITTE CONSULTING LLP</th>\n",
       "      <td>35999</td>\n",
       "      <td>1.20</td>\n",
       "    </tr>\n",
       "    <tr>\n",
       "      <th>IBM INDIA PRIVATE LIMITED</th>\n",
       "      <td>33585</td>\n",
       "      <td>1.12</td>\n",
       "    </tr>\n",
       "    <tr>\n",
       "      <th>ACCENTURE LLP</th>\n",
       "      <td>33226</td>\n",
       "      <td>1.11</td>\n",
       "    </tr>\n",
       "    <tr>\n",
       "      <th>MICROSOFT CORPORATION</th>\n",
       "      <td>25551</td>\n",
       "      <td>0.85</td>\n",
       "    </tr>\n",
       "    <tr>\n",
       "      <th>HCL AMERICA, INC.</th>\n",
       "      <td>22488</td>\n",
       "      <td>0.75</td>\n",
       "    </tr>\n",
       "    <tr>\n",
       "      <th>ERNST &amp; YOUNG U.S. LLP</th>\n",
       "      <td>18094</td>\n",
       "      <td>0.60</td>\n",
       "    </tr>\n",
       "    <tr>\n",
       "      <th>COGNIZANT TECHNOLOGY SOLUTIONS U.S. CORPORATION</th>\n",
       "      <td>17322</td>\n",
       "      <td>0.58</td>\n",
       "    </tr>\n",
       "    <tr>\n",
       "      <th>CAPGEMINI AMERICA INC</th>\n",
       "      <td>16628</td>\n",
       "      <td>0.55</td>\n",
       "    </tr>\n",
       "    <tr>\n",
       "      <th>GOOGLE INC.</th>\n",
       "      <td>16425</td>\n",
       "      <td>0.55</td>\n",
       "    </tr>\n",
       "    <tr>\n",
       "      <th>LARSEN &amp; TOUBRO INFOTECH LIMITED</th>\n",
       "      <td>14318</td>\n",
       "      <td>0.48</td>\n",
       "    </tr>\n",
       "    <tr>\n",
       "      <th>IGATE TECHNOLOGIES INC.</th>\n",
       "      <td>12327</td>\n",
       "      <td>0.41</td>\n",
       "    </tr>\n",
       "    <tr>\n",
       "      <th>IBM CORPORATION</th>\n",
       "      <td>11976</td>\n",
       "      <td>0.40</td>\n",
       "    </tr>\n",
       "    <tr>\n",
       "      <th>INTEL CORPORATION</th>\n",
       "      <td>11390</td>\n",
       "      <td>0.38</td>\n",
       "    </tr>\n",
       "    <tr>\n",
       "      <th>TECH MAHINDRA (AMERICAS),INC.</th>\n",
       "      <td>10595</td>\n",
       "      <td>0.35</td>\n",
       "    </tr>\n",
       "    <tr>\n",
       "      <th>DELOITTE &amp; TOUCHE LLP</th>\n",
       "      <td>9284</td>\n",
       "      <td>0.31</td>\n",
       "    </tr>\n",
       "    <tr>\n",
       "      <th>AMAZON CORPORATE LLC</th>\n",
       "      <td>8964</td>\n",
       "      <td>0.30</td>\n",
       "    </tr>\n",
       "    <tr>\n",
       "      <th>ORACLE AMERICA, INC.</th>\n",
       "      <td>7593</td>\n",
       "      <td>0.25</td>\n",
       "    </tr>\n",
       "    <tr>\n",
       "      <th>APPLE INC.</th>\n",
       "      <td>7178</td>\n",
       "      <td>0.24</td>\n",
       "    </tr>\n",
       "    <tr>\n",
       "      <th>JPMORGAN CHASE &amp; CO.</th>\n",
       "      <td>6999</td>\n",
       "      <td>0.23</td>\n",
       "    </tr>\n",
       "    <tr>\n",
       "      <th>TECH MAHINDRA (AMERICAS), INC.</th>\n",
       "      <td>6920</td>\n",
       "      <td>0.23</td>\n",
       "    </tr>\n",
       "    <tr>\n",
       "      <th>UST GLOBAL INC</th>\n",
       "      <td>6302</td>\n",
       "      <td>0.21</td>\n",
       "    </tr>\n",
       "    <tr>\n",
       "      <th>UST GLOBAL INC.</th>\n",
       "      <td>6254</td>\n",
       "      <td>0.21</td>\n",
       "    </tr>\n",
       "    <tr>\n",
       "      <th>QUALCOMM TECHNOLOGIES, INC.</th>\n",
       "      <td>6096</td>\n",
       "      <td>0.20</td>\n",
       "    </tr>\n",
       "    <tr>\n",
       "      <th>HEXAWARE TECHNOLOGIES, INC.</th>\n",
       "      <td>5264</td>\n",
       "      <td>0.18</td>\n",
       "    </tr>\n",
       "    <tr>\n",
       "      <th>MASTECH, INC., A MASTECH HOLDINGS, INC. COMPANY</th>\n",
       "      <td>5173</td>\n",
       "      <td>0.17</td>\n",
       "    </tr>\n",
       "    <tr>\n",
       "      <th>MPHASIS CORPORATION</th>\n",
       "      <td>5162</td>\n",
       "      <td>0.17</td>\n",
       "    </tr>\n",
       "    <tr>\n",
       "      <th>FUJITSU AMERICA, INC.</th>\n",
       "      <td>5032</td>\n",
       "      <td>0.17</td>\n",
       "    </tr>\n",
       "  </tbody>\n",
       "</table>\n",
       "</div>"
      ],
      "text/plain": [
       "                                                 EMPLOYER_NAME  PERCENTAGE\n",
       "INFOSYS LIMITED                                         130257        4.34\n",
       "TATA CONSULTANCY SERVICES LIMITED                        64273        2.14\n",
       "WIPRO LIMITED                                            45673        1.52\n",
       "DELOITTE CONSULTING LLP                                  35999        1.20\n",
       "IBM INDIA PRIVATE LIMITED                                33585        1.12\n",
       "ACCENTURE LLP                                            33226        1.11\n",
       "MICROSOFT CORPORATION                                    25551        0.85\n",
       "HCL AMERICA, INC.                                        22488        0.75\n",
       "ERNST & YOUNG U.S. LLP                                   18094        0.60\n",
       "COGNIZANT TECHNOLOGY SOLUTIONS U.S. CORPORATION          17322        0.58\n",
       "CAPGEMINI AMERICA INC                                    16628        0.55\n",
       "GOOGLE INC.                                              16425        0.55\n",
       "LARSEN & TOUBRO INFOTECH LIMITED                         14318        0.48\n",
       "IGATE TECHNOLOGIES INC.                                  12327        0.41\n",
       "IBM CORPORATION                                          11976        0.40\n",
       "INTEL CORPORATION                                        11390        0.38\n",
       "TECH MAHINDRA (AMERICAS),INC.                            10595        0.35\n",
       "DELOITTE & TOUCHE LLP                                     9284        0.31\n",
       "AMAZON CORPORATE LLC                                      8964        0.30\n",
       "ORACLE AMERICA, INC.                                      7593        0.25\n",
       "APPLE INC.                                                7178        0.24\n",
       "JPMORGAN CHASE & CO.                                      6999        0.23\n",
       "TECH MAHINDRA (AMERICAS), INC.                            6920        0.23\n",
       "UST GLOBAL INC                                            6302        0.21\n",
       "UST GLOBAL INC.                                           6254        0.21\n",
       "QUALCOMM TECHNOLOGIES, INC.                               6096        0.20\n",
       "HEXAWARE TECHNOLOGIES, INC.                               5264        0.18\n",
       "MASTECH, INC., A MASTECH HOLDINGS, INC. COMPANY           5173        0.17\n",
       "MPHASIS CORPORATION                                       5162        0.17\n",
       "FUJITSU AMERICA, INC.                                     5032        0.17"
      ]
     },
     "execution_count": 83,
     "metadata": {},
     "output_type": "execute_result"
    }
   ],
   "source": [
    "def compute_percentage(x):\n",
    "    pct = float(x/3002458) * 100\n",
    "    return round(pct, 2)\n",
    "\n",
    "top_employers_df['PERCENTAGE'] = top_employers_df['EMPLOYER_NAME'].apply(compute_percentage)\n",
    "top_employers_df"
   ]
  },
  {
   "cell_type": "markdown",
   "metadata": {},
   "source": [
    "** The companies ranked 1, 2, 3 and 5 are headquartered in India **"
   ]
  },
  {
   "cell_type": "markdown",
   "metadata": {},
   "source": [
    "** 3. SOC Name **"
   ]
  },
  {
   "cell_type": "code",
   "execution_count": 84,
   "metadata": {
    "collapsed": false,
    "scrolled": true
   },
   "outputs": [
    {
     "data": {
      "text/plain": [
       "2043"
      ]
     },
     "execution_count": 84,
     "metadata": {},
     "output_type": "execute_result"
    }
   ],
   "source": [
    "len(data.SOC_NAME.unique())"
   ]
  },
  {
   "cell_type": "code",
   "execution_count": 85,
   "metadata": {
    "collapsed": false
   },
   "outputs": [],
   "source": [
    "# SOC Name All upper cases, eliminate duplications\n",
    "data.SOC_NAME = data.SOC_NAME.apply(lambda x: (re.sub('\\*','', x)).upper())\n",
    "#data.SOC_NAME = data.SOC_NAME.apply(lambda x: x.upper())"
   ]
  },
  {
   "cell_type": "code",
   "execution_count": 86,
   "metadata": {
    "collapsed": false,
    "scrolled": true
   },
   "outputs": [
    {
     "data": {
      "text/plain": [
       "1508"
      ]
     },
     "execution_count": 86,
     "metadata": {},
     "output_type": "execute_result"
    }
   ],
   "source": [
    "len(data.SOC_NAME.unique())"
   ]
  },
  {
   "cell_type": "code",
   "execution_count": 87,
   "metadata": {
    "collapsed": false,
    "scrolled": false
   },
   "outputs": [
    {
     "data": {
      "text/html": [
       "<div>\n",
       "<table border=\"1\" class=\"dataframe\">\n",
       "  <thead>\n",
       "    <tr style=\"text-align: right;\">\n",
       "      <th></th>\n",
       "      <th>SOC_NAME</th>\n",
       "      <th>PERCENTAGE</th>\n",
       "    </tr>\n",
       "  </thead>\n",
       "  <tbody>\n",
       "    <tr>\n",
       "      <th>COMPUTER SYSTEMS ANALYSTS</th>\n",
       "      <td>499177</td>\n",
       "      <td>16.63</td>\n",
       "    </tr>\n",
       "    <tr>\n",
       "      <th>SOFTWARE DEVELOPERS, APPLICATIONS</th>\n",
       "      <td>408896</td>\n",
       "      <td>13.62</td>\n",
       "    </tr>\n",
       "    <tr>\n",
       "      <th>COMPUTER PROGRAMMERS</th>\n",
       "      <td>392036</td>\n",
       "      <td>13.06</td>\n",
       "    </tr>\n",
       "    <tr>\n",
       "      <th>COMPUTER OCCUPATIONS, ALL OTHER</th>\n",
       "      <td>201862</td>\n",
       "      <td>6.72</td>\n",
       "    </tr>\n",
       "    <tr>\n",
       "      <th>SOFTWARE DEVELOPERS, SYSTEMS SOFTWARE</th>\n",
       "      <td>82644</td>\n",
       "      <td>2.75</td>\n",
       "    </tr>\n",
       "    <tr>\n",
       "      <th>MANAGEMENT ANALYSTS</th>\n",
       "      <td>65329</td>\n",
       "      <td>2.18</td>\n",
       "    </tr>\n",
       "    <tr>\n",
       "      <th>FINANCIAL ANALYSTS</th>\n",
       "      <td>52571</td>\n",
       "      <td>1.75</td>\n",
       "    </tr>\n",
       "    <tr>\n",
       "      <th>ACCOUNTANTS AND AUDITORS</th>\n",
       "      <td>50613</td>\n",
       "      <td>1.69</td>\n",
       "    </tr>\n",
       "    <tr>\n",
       "      <th>NETWORK AND COMPUTER SYSTEMS ADMINISTRATORS</th>\n",
       "      <td>47133</td>\n",
       "      <td>1.57</td>\n",
       "    </tr>\n",
       "    <tr>\n",
       "      <th>MECHANICAL ENGINEERS</th>\n",
       "      <td>40778</td>\n",
       "      <td>1.36</td>\n",
       "    </tr>\n",
       "    <tr>\n",
       "      <th>DATABASE ADMINISTRATORS</th>\n",
       "      <td>38160</td>\n",
       "      <td>1.27</td>\n",
       "    </tr>\n",
       "    <tr>\n",
       "      <th>MARKET RESEARCH ANALYSTS AND MARKETING SPECIALISTS</th>\n",
       "      <td>36201</td>\n",
       "      <td>1.21</td>\n",
       "    </tr>\n",
       "    <tr>\n",
       "      <th>ELECTRONICS ENGINEERS, EXCEPT COMPUTER</th>\n",
       "      <td>35962</td>\n",
       "      <td>1.20</td>\n",
       "    </tr>\n",
       "    <tr>\n",
       "      <th>OPERATIONS RESEARCH ANALYSTS</th>\n",
       "      <td>33605</td>\n",
       "      <td>1.12</td>\n",
       "    </tr>\n",
       "    <tr>\n",
       "      <th>COMPUTER SOFTWARE ENGINEERS, APPLICATIONS</th>\n",
       "      <td>32825</td>\n",
       "      <td>1.09</td>\n",
       "    </tr>\n",
       "    <tr>\n",
       "      <th>ELECTRICAL ENGINEERS</th>\n",
       "      <td>32353</td>\n",
       "      <td>1.08</td>\n",
       "    </tr>\n",
       "    <tr>\n",
       "      <th>PHYSICIANS AND SURGEONS, ALL OTHER</th>\n",
       "      <td>30334</td>\n",
       "      <td>1.01</td>\n",
       "    </tr>\n",
       "    <tr>\n",
       "      <th>COMPUTER AND INFORMATION SYSTEMS MANAGERS</th>\n",
       "      <td>27004</td>\n",
       "      <td>0.90</td>\n",
       "    </tr>\n",
       "    <tr>\n",
       "      <th>MEDICAL SCIENTISTS, EXCEPT EPIDEMIOLOGISTS</th>\n",
       "      <td>25714</td>\n",
       "      <td>0.86</td>\n",
       "    </tr>\n",
       "    <tr>\n",
       "      <th>BIOCHEMISTS AND BIOPHYSICISTS</th>\n",
       "      <td>21017</td>\n",
       "      <td>0.70</td>\n",
       "    </tr>\n",
       "    <tr>\n",
       "      <th>COMPUTER SYSTEMS ANALYST</th>\n",
       "      <td>17364</td>\n",
       "      <td>0.58</td>\n",
       "    </tr>\n",
       "    <tr>\n",
       "      <th>INDUSTRIAL ENGINEERS</th>\n",
       "      <td>17045</td>\n",
       "      <td>0.57</td>\n",
       "    </tr>\n",
       "    <tr>\n",
       "      <th>STATISTICIANS</th>\n",
       "      <td>16849</td>\n",
       "      <td>0.56</td>\n",
       "    </tr>\n",
       "    <tr>\n",
       "      <th>BIOLOGICAL SCIENTISTS, ALL OTHER</th>\n",
       "      <td>16081</td>\n",
       "      <td>0.54</td>\n",
       "    </tr>\n",
       "    <tr>\n",
       "      <th>PHYSICAL THERAPISTS</th>\n",
       "      <td>15581</td>\n",
       "      <td>0.52</td>\n",
       "    </tr>\n",
       "    <tr>\n",
       "      <th>MARKETING MANAGERS</th>\n",
       "      <td>15500</td>\n",
       "      <td>0.52</td>\n",
       "    </tr>\n",
       "    <tr>\n",
       "      <th>CIVIL ENGINEERS</th>\n",
       "      <td>14936</td>\n",
       "      <td>0.50</td>\n",
       "    </tr>\n",
       "    <tr>\n",
       "      <th>WEB DEVELOPERS</th>\n",
       "      <td>14838</td>\n",
       "      <td>0.49</td>\n",
       "    </tr>\n",
       "    <tr>\n",
       "      <th>GRAPHIC DESIGNERS</th>\n",
       "      <td>12186</td>\n",
       "      <td>0.41</td>\n",
       "    </tr>\n",
       "    <tr>\n",
       "      <th>CHEMISTS</th>\n",
       "      <td>12162</td>\n",
       "      <td>0.41</td>\n",
       "    </tr>\n",
       "  </tbody>\n",
       "</table>\n",
       "</div>"
      ],
      "text/plain": [
       "                                                    SOC_NAME  PERCENTAGE\n",
       "COMPUTER SYSTEMS ANALYSTS                             499177       16.63\n",
       "SOFTWARE DEVELOPERS, APPLICATIONS                     408896       13.62\n",
       "COMPUTER PROGRAMMERS                                  392036       13.06\n",
       "COMPUTER OCCUPATIONS, ALL OTHER                       201862        6.72\n",
       "SOFTWARE DEVELOPERS, SYSTEMS SOFTWARE                  82644        2.75\n",
       "MANAGEMENT ANALYSTS                                    65329        2.18\n",
       "FINANCIAL ANALYSTS                                     52571        1.75\n",
       "ACCOUNTANTS AND AUDITORS                               50613        1.69\n",
       "NETWORK AND COMPUTER SYSTEMS ADMINISTRATORS            47133        1.57\n",
       "MECHANICAL ENGINEERS                                   40778        1.36\n",
       "DATABASE ADMINISTRATORS                                38160        1.27\n",
       "MARKET RESEARCH ANALYSTS AND MARKETING SPECIALISTS     36201        1.21\n",
       "ELECTRONICS ENGINEERS, EXCEPT COMPUTER                 35962        1.20\n",
       "OPERATIONS RESEARCH ANALYSTS                           33605        1.12\n",
       "COMPUTER SOFTWARE ENGINEERS, APPLICATIONS              32825        1.09\n",
       "ELECTRICAL ENGINEERS                                   32353        1.08\n",
       "PHYSICIANS AND SURGEONS, ALL OTHER                     30334        1.01\n",
       "COMPUTER AND INFORMATION SYSTEMS MANAGERS              27004        0.90\n",
       "MEDICAL SCIENTISTS, EXCEPT EPIDEMIOLOGISTS             25714        0.86\n",
       "BIOCHEMISTS AND BIOPHYSICISTS                          21017        0.70\n",
       "COMPUTER SYSTEMS ANALYST                               17364        0.58\n",
       "INDUSTRIAL ENGINEERS                                   17045        0.57\n",
       "STATISTICIANS                                          16849        0.56\n",
       "BIOLOGICAL SCIENTISTS, ALL OTHER                       16081        0.54\n",
       "PHYSICAL THERAPISTS                                    15581        0.52\n",
       "MARKETING MANAGERS                                     15500        0.52\n",
       "CIVIL ENGINEERS                                        14936        0.50\n",
       "WEB DEVELOPERS                                         14838        0.49\n",
       "GRAPHIC DESIGNERS                                      12186        0.41\n",
       "CHEMISTS                                               12162        0.41"
      ]
     },
     "execution_count": 87,
     "metadata": {},
     "output_type": "execute_result"
    }
   ],
   "source": [
    "top_soc_names = data['SOC_NAME'].value_counts()[:30]\n",
    "top_soc_names_df = top_soc_names.to_frame()\n",
    "top_soc_names_df['PERCENTAGE'] = top_soc_names_df['SOC_NAME'].apply(compute_percentage)\n",
    "top_soc_names_df"
   ]
  },
  {
   "cell_type": "markdown",
   "metadata": {},
   "source": [
    "** More than 40% of the petitions are for computer related occupations. The top SOC_name is \"computer systems analysts\". **"
   ]
  },
  {
   "cell_type": "markdown",
   "metadata": {},
   "source": [
    "** 4. Job Title **"
   ]
  },
  {
   "cell_type": "code",
   "execution_count": 88,
   "metadata": {
    "collapsed": false,
    "scrolled": true
   },
   "outputs": [
    {
     "data": {
      "text/plain": [
       "275481"
      ]
     },
     "execution_count": 88,
     "metadata": {},
     "output_type": "execute_result"
    }
   ],
   "source": [
    "len(data.JOB_TITLE.unique())"
   ]
  },
  {
   "cell_type": "code",
   "execution_count": 89,
   "metadata": {
    "collapsed": false,
    "scrolled": false
   },
   "outputs": [
    {
     "data": {
      "text/html": [
       "<div>\n",
       "<table border=\"1\" class=\"dataframe\">\n",
       "  <thead>\n",
       "    <tr style=\"text-align: right;\">\n",
       "      <th></th>\n",
       "      <th>JOB_TITLE</th>\n",
       "      <th>PERCENTAGE</th>\n",
       "    </tr>\n",
       "  </thead>\n",
       "  <tbody>\n",
       "    <tr>\n",
       "      <th>PROGRAMMER ANALYST</th>\n",
       "      <td>243357</td>\n",
       "      <td>8.11</td>\n",
       "    </tr>\n",
       "    <tr>\n",
       "      <th>SOFTWARE ENGINEER</th>\n",
       "      <td>118897</td>\n",
       "      <td>3.96</td>\n",
       "    </tr>\n",
       "    <tr>\n",
       "      <th>COMPUTER PROGRAMMER</th>\n",
       "      <td>68696</td>\n",
       "      <td>2.29</td>\n",
       "    </tr>\n",
       "    <tr>\n",
       "      <th>SYSTEMS ANALYST</th>\n",
       "      <td>60754</td>\n",
       "      <td>2.02</td>\n",
       "    </tr>\n",
       "    <tr>\n",
       "      <th>SOFTWARE DEVELOPER</th>\n",
       "      <td>41875</td>\n",
       "      <td>1.39</td>\n",
       "    </tr>\n",
       "    <tr>\n",
       "      <th>BUSINESS ANALYST</th>\n",
       "      <td>38781</td>\n",
       "      <td>1.29</td>\n",
       "    </tr>\n",
       "    <tr>\n",
       "      <th>COMPUTER SYSTEMS ANALYST</th>\n",
       "      <td>34036</td>\n",
       "      <td>1.13</td>\n",
       "    </tr>\n",
       "    <tr>\n",
       "      <th>TECHNOLOGY LEAD - US</th>\n",
       "      <td>28307</td>\n",
       "      <td>0.94</td>\n",
       "    </tr>\n",
       "    <tr>\n",
       "      <th>SENIOR SOFTWARE ENGINEER</th>\n",
       "      <td>26617</td>\n",
       "      <td>0.89</td>\n",
       "    </tr>\n",
       "    <tr>\n",
       "      <th>TECHNOLOGY ANALYST - US</th>\n",
       "      <td>26010</td>\n",
       "      <td>0.87</td>\n",
       "    </tr>\n",
       "    <tr>\n",
       "      <th>ASSISTANT PROFESSOR</th>\n",
       "      <td>24436</td>\n",
       "      <td>0.81</td>\n",
       "    </tr>\n",
       "    <tr>\n",
       "      <th>SENIOR CONSULTANT</th>\n",
       "      <td>24120</td>\n",
       "      <td>0.80</td>\n",
       "    </tr>\n",
       "    <tr>\n",
       "      <th>CONSULTANT</th>\n",
       "      <td>22643</td>\n",
       "      <td>0.75</td>\n",
       "    </tr>\n",
       "    <tr>\n",
       "      <th>PROJECT MANAGER</th>\n",
       "      <td>19015</td>\n",
       "      <td>0.63</td>\n",
       "    </tr>\n",
       "    <tr>\n",
       "      <th>DATABASE ADMINISTRATOR</th>\n",
       "      <td>16108</td>\n",
       "      <td>0.54</td>\n",
       "    </tr>\n",
       "    <tr>\n",
       "      <th>PHYSICAL THERAPIST</th>\n",
       "      <td>14203</td>\n",
       "      <td>0.47</td>\n",
       "    </tr>\n",
       "    <tr>\n",
       "      <th>RESEARCH ASSOCIATE</th>\n",
       "      <td>13409</td>\n",
       "      <td>0.45</td>\n",
       "    </tr>\n",
       "    <tr>\n",
       "      <th>COMPUTER PROGRAMMER ANALYST</th>\n",
       "      <td>13116</td>\n",
       "      <td>0.44</td>\n",
       "    </tr>\n",
       "    <tr>\n",
       "      <th>ACCOUNTANT</th>\n",
       "      <td>12934</td>\n",
       "      <td>0.43</td>\n",
       "    </tr>\n",
       "    <tr>\n",
       "      <th>DEVELOPER</th>\n",
       "      <td>12737</td>\n",
       "      <td>0.42</td>\n",
       "    </tr>\n",
       "    <tr>\n",
       "      <th>ASSOCIATE</th>\n",
       "      <td>12447</td>\n",
       "      <td>0.41</td>\n",
       "    </tr>\n",
       "    <tr>\n",
       "      <th>ANALYST</th>\n",
       "      <td>11644</td>\n",
       "      <td>0.39</td>\n",
       "    </tr>\n",
       "    <tr>\n",
       "      <th>LEAD ENGINEER</th>\n",
       "      <td>11012</td>\n",
       "      <td>0.37</td>\n",
       "    </tr>\n",
       "    <tr>\n",
       "      <th>SENIOR SOFTWARE DEVELOPER</th>\n",
       "      <td>10031</td>\n",
       "      <td>0.33</td>\n",
       "    </tr>\n",
       "    <tr>\n",
       "      <th>SYSTEMS ENGINEER - US</th>\n",
       "      <td>10020</td>\n",
       "      <td>0.33</td>\n",
       "    </tr>\n",
       "    <tr>\n",
       "      <th>BUSINESS SYSTEMS ANALYST</th>\n",
       "      <td>9797</td>\n",
       "      <td>0.33</td>\n",
       "    </tr>\n",
       "    <tr>\n",
       "      <th>COMPUTER SYSTEMS ENGINEER</th>\n",
       "      <td>9723</td>\n",
       "      <td>0.32</td>\n",
       "    </tr>\n",
       "    <tr>\n",
       "      <th>PROGRAMMER/ANALYST</th>\n",
       "      <td>9222</td>\n",
       "      <td>0.31</td>\n",
       "    </tr>\n",
       "    <tr>\n",
       "      <th>MARKET RESEARCH ANALYST</th>\n",
       "      <td>8363</td>\n",
       "      <td>0.28</td>\n",
       "    </tr>\n",
       "    <tr>\n",
       "      <th>MANAGER</th>\n",
       "      <td>8339</td>\n",
       "      <td>0.28</td>\n",
       "    </tr>\n",
       "  </tbody>\n",
       "</table>\n",
       "</div>"
      ],
      "text/plain": [
       "                             JOB_TITLE  PERCENTAGE\n",
       "PROGRAMMER ANALYST              243357        8.11\n",
       "SOFTWARE ENGINEER               118897        3.96\n",
       "COMPUTER PROGRAMMER              68696        2.29\n",
       "SYSTEMS ANALYST                  60754        2.02\n",
       "SOFTWARE DEVELOPER               41875        1.39\n",
       "BUSINESS ANALYST                 38781        1.29\n",
       "COMPUTER SYSTEMS ANALYST         34036        1.13\n",
       "TECHNOLOGY LEAD - US             28307        0.94\n",
       "SENIOR SOFTWARE ENGINEER         26617        0.89\n",
       "TECHNOLOGY ANALYST - US          26010        0.87\n",
       "ASSISTANT PROFESSOR              24436        0.81\n",
       "SENIOR CONSULTANT                24120        0.80\n",
       "CONSULTANT                       22643        0.75\n",
       "PROJECT MANAGER                  19015        0.63\n",
       "DATABASE ADMINISTRATOR           16108        0.54\n",
       "PHYSICAL THERAPIST               14203        0.47\n",
       "RESEARCH ASSOCIATE               13409        0.45\n",
       "COMPUTER PROGRAMMER ANALYST      13116        0.44\n",
       "ACCOUNTANT                       12934        0.43\n",
       "DEVELOPER                        12737        0.42\n",
       "ASSOCIATE                        12447        0.41\n",
       "ANALYST                          11644        0.39\n",
       "LEAD ENGINEER                    11012        0.37\n",
       "SENIOR SOFTWARE DEVELOPER        10031        0.33\n",
       "SYSTEMS ENGINEER - US            10020        0.33\n",
       "BUSINESS SYSTEMS ANALYST          9797        0.33\n",
       "COMPUTER SYSTEMS ENGINEER         9723        0.32\n",
       "PROGRAMMER/ANALYST                9222        0.31\n",
       "MARKET RESEARCH ANALYST           8363        0.28\n",
       "MANAGER                           8339        0.28"
      ]
     },
     "execution_count": 89,
     "metadata": {},
     "output_type": "execute_result"
    }
   ],
   "source": [
    "top_job_titles = data['JOB_TITLE'].value_counts()[:30]\n",
    "top_job_titles_df = top_job_titles.to_frame()\n",
    "top_job_titles_df['PERCENTAGE'] = top_job_titles_df['JOB_TITLE'].apply(compute_percentage)\n",
    "top_job_titles_df"
   ]
  },
  {
   "cell_type": "markdown",
   "metadata": {},
   "source": [
    "** 5. FULL_TIME_POSITION **"
   ]
  },
  {
   "cell_type": "code",
   "execution_count": 90,
   "metadata": {
    "collapsed": false
   },
   "outputs": [
    {
     "data": {
      "text/plain": [
       "[2469721, 408044]"
      ]
     },
     "execution_count": 90,
     "metadata": {},
     "output_type": "execute_result"
    }
   ],
   "source": [
    "full_time_status = ['Y', 'N']\n",
    "full_time_freq = [0]*2                     # petitions distributions by status\n",
    "for i in range(0,2):\n",
    "    full_time_freq[i] = data[data.FULL_TIME_POSITION==full_time_status[i]]['FULL_TIME_POSITION'].count()\n",
    "\n",
    "#full_time_freq[2] = data['FULL_TIME_POSITION'].isnull().sum()\n",
    "full_time_freq"
   ]
  },
  {
   "cell_type": "code",
   "execution_count": 91,
   "metadata": {
    "collapsed": false
   },
   "outputs": [
    {
     "data": {
      "image/png": "[encoded data removed]",
      "text/plain": [
       "<matplotlib.figure.Figure at 0x133183748>"
      ]
     },
     "metadata": {},
     "output_type": "display_data"
    },
    {
     "data": {
      "text/plain": [
       "<matplotlib.figure.Figure at 0x1331bbef0>"
      ]
     },
     "metadata": {},
     "output_type": "display_data"
    }
   ],
   "source": [
    "# Plot\n",
    "plt.pie(full_time_freq[:2], labels=['Full Time', 'Part Time'], colors=sns.color_palette(\"muted\", n_colors=2), autopct='%1.1f%%')\n",
    "plt.axis('equal')\n",
    "plt.figure(figsize=(3,3))\n",
    "plt.show()"
   ]
  },
  {
   "cell_type": "markdown",
   "metadata": {},
   "source": [
    "** 6. Prevailing Wage **"
   ]
  },
  {
   "cell_type": "code",
   "execution_count": 92,
   "metadata": {
    "collapsed": false
   },
   "outputs": [
    {
     "data": {
      "text/plain": [
       "count    2.877765e+06\n",
       "mean     1.451666e+05\n",
       "std      5.307856e+06\n",
       "min      0.000000e+00\n",
       "25%      5.460000e+04\n",
       "50%      6.512500e+04\n",
       "75%      8.151500e+04\n",
       "max      6.997607e+09\n",
       "Name: PREVAILING_WAGE, dtype: float64"
      ]
     },
     "execution_count": 92,
     "metadata": {},
     "output_type": "execute_result"
    }
   ],
   "source": [
    "data['PREVAILING_WAGE'].describe()"
   ]
  },
  {
   "cell_type": "markdown",
   "metadata": {},
   "source": [
    "** 7. Year **"
   ]
  },
  {
   "cell_type": "code",
   "execution_count": 93,
   "metadata": {
    "collapsed": false,
    "scrolled": false
   },
   "outputs": [],
   "source": [
    "data1 = data.YEAR.astype(int)"
   ]
  },
  {
   "cell_type": "code",
   "execution_count": 94,
   "metadata": {
    "collapsed": false
   },
   "outputs": [
    {
     "data": {
      "text/plain": [
       "<matplotlib.axes._subplots.AxesSubplot at 0x1164c50b8>"
      ]
     },
     "execution_count": 94,
     "metadata": {},
     "output_type": "execute_result"
    },
    {
     "data": {
      "image/png": "[encoded data removed]",
      "text/plain": [
       "<matplotlib.figure.Figure at 0x1164c5f98>"
      ]
     },
     "metadata": {},
     "output_type": "display_data"
    }
   ],
   "source": [
    "sns.set_context(\"notebook\",font_scale=1.0)\n",
    "plt.figure(figsize=(13,3))\n",
    "plt.title('PETITIONS DISTRIBUTION BY YEAR')\n",
    "sns.countplot(data1)"
   ]
  },
  {
   "cell_type": "markdown",
   "metadata": {
    "collapsed": true
   },
   "source": [
    "** 8. Worksite **"
   ]
  },
  {
   "cell_type": "code",
   "execution_count": 117,
   "metadata": {
    "collapsed": false
   },
   "outputs": [],
   "source": [
    "us_state_abbrev = {\n",
    "    'Alabama': 'AL',\n",
    "    'Alaska': 'AK',\n",
    "    'Arizona': 'AZ',\n",
    "    'Arkansas': 'AR',\n",
    "    'California': 'CA',\n",
    "    'Colorado': 'CO',\n",
    "    'Connecticut': 'CT',\n",
    "    'Delaware': 'DE',\n",
    "    'DISTRICT OF COLUMBIA': 'DC',\n",
    "    'Florida': 'FL',\n",
    "    'Georgia': 'GA',\n",
    "    'Hawaii': 'HI',\n",
    "    'Idaho': 'ID',\n",
    "    'Illinois': 'IL',\n",
    "    'Indiana': 'IN',\n",
    "    'Iowa': 'IA',\n",
    "    'Kansas': 'KS',\n",
    "    'Kentucky': 'KY',\n",
    "    'Louisiana': 'LA',\n",
    "    'Maine': 'ME',\n",
    "    'Maryland': 'MD',\n",
    "    'Massachusetts': 'MA',\n",
    "    'Michigan': 'MI',\n",
    "    'Minnesota': 'MN',\n",
    "    'Mississippi': 'MS',\n",
    "    'Missouri': 'MO',\n",
    "    'Montana': 'MT',\n",
    "    'NA': 'NA',\n",
    "    'Nebraska': 'NE',\n",
    "    'Nevada': 'NV',\n",
    "    'New Hampshire': 'NH',\n",
    "    'New Jersey': 'NJ',\n",
    "    'New Mexico': 'NM',\n",
    "    'New York': 'NY',\n",
    "    'North Carolina': 'NC',\n",
    "    'North Dakota': 'ND',\n",
    "    'Ohio': 'OH',\n",
    "    'Oklahoma': 'OK',\n",
    "    'Oregon': 'OR',\n",
    "    'Pennsylvania': 'PA',\n",
    "    'Rhode Island': 'RI',\n",
    "    'South Carolina': 'SC',\n",
    "    'South Dakota': 'SD',\n",
    "    'Tennessee': 'TN',\n",
    "    'Texas': 'TX',\n",
    "    'Utah': 'UT',\n",
    "    'Vermont': 'VT',\n",
    "    'Virginia': 'VA',\n",
    "    'Washington': 'WA',\n",
    "    'Washington, DC': 'DC',\n",
    "    'West Virginia': 'WV',\n",
    "    'Wisconsin': 'WI',\n",
    "    'Wyoming': 'WY',\n",
    "}\n",
    "\n",
    "def capitalize_keys(d):\n",
    "    result = {}\n",
    "    for key, value in d.items():\n",
    "        upper_key = key.upper()\n",
    "        result[upper_key] = value\n",
    "    return result\n",
    "\n",
    "abbr_states = capitalize_keys(us_state_abbrev)\n",
    "\n",
    "\n",
    "def extract_state(x):\n",
    "    state_name = x.split(',')[1].strip()\n",
    "    if state_name in abbr_states:\n",
    "        return abbr_states[state_name]\n",
    "    else:\n",
    "        return state_name\n",
    "\n",
    "data['STATE'] = data['WORKSITE'].apply(extract_state)"
   ]
  },
  {
   "cell_type": "code",
   "execution_count": 121,
   "metadata": {
    "collapsed": false
   },
   "outputs": [
    {
     "name": "stdout",
     "output_type": "stream",
     "text": [
      "High five! You successfuly sent some data to your account on plotly. View your plot in your browser at https://plot.ly/~eyesball/0 or inside your plot.ly account where it is named 'd3-cloropleth-map'\n"
     ]
    },
    {
     "data": {
      "text/html": [
       "<iframe id=\"igraph\" scrolling=\"no\" style=\"border:none;\" seamless=\"seamless\" src=\"https://plot.ly/~eyesball/0.embed\" height=\"525px\" width=\"100%\"></iframe>"
      ],
      "text/plain": [
       "<plotly.tools.PlotlyDisplay object>"
      ]
     },
     "execution_count": 121,
     "metadata": {},
     "output_type": "execute_result"
    }
   ],
   "source": [
    "graph_data = data['STATE'].value_counts()\n",
    "\n",
    "scl = [[0.0, 'rgb(242,240,247)'],[0.2, 'rgb(218,218,235)'],[0.4, 'rgb(188,189,220)'],\\\n",
    "            [0.6, 'rgb(158,154,200)'],[0.8, 'rgb(117,107,177)'],[1.0, 'rgb(84,39,143)']]\n",
    "\n",
    "input_data = [ dict(\n",
    "        type='choropleth',\n",
    "        colorscale = scl,\n",
    "        autocolorscale = False,\n",
    "        locations = graph_data.index,\n",
    "        z = graph_data.astype(float),\n",
    "        locationmode = 'USA-states',\n",
    "        #text = df['text'],\n",
    "        marker = dict(\n",
    "            line = dict (\n",
    "                color = 'rgb(255,255,255)',\n",
    "                width = 2\n",
    "            ) ),\n",
    "        colorbar = dict(\n",
    "            title = \"Millions USD\")\n",
    "        ) ]\n",
    "\n",
    "layout = dict(\n",
    "        title = 'Number of H1B petitions filed by each state in USA',\n",
    "        geo = dict(\n",
    "            scope='usa',\n",
    "            projection=dict( type='albers usa' ),\n",
    "            showlakes = True,\n",
    "            lakecolor = 'rgb(255, 255, 255)'),\n",
    "             )\n",
    "    \n",
    "fig = dict( data=input_data, layout=layout )\n",
    "py.iplot( fig, filename='d3-cloropleth-map' )"
   ]
  },
  {
   "cell_type": "code",
   "execution_count": null,
   "metadata": {
    "collapsed": true
   },
   "outputs": [],
   "source": []
  },
  {
   "cell_type": "code",
   "execution_count": null,
   "metadata": {
    "collapsed": false
   },
   "outputs": [],
   "source": []
  },
  {
   "cell_type": "code",
   "execution_count": null,
   "metadata": {
    "collapsed": true
   },
   "outputs": [],
   "source": []
  }
 ],
 "metadata": {
  "anaconda-cloud": {},
  "kernelspec": {
   "display_name": "Python [conda root]",
   "language": "python",
   "name": "conda-root-py"
  },
  "language_info": {
   "codemirror_mode": {
    "name": "ipython",
    "version": 3
   },
   "file_extension": ".py",
   "mimetype": "text/x-python",
   "name": "python",
   "nbconvert_exporter": "python",
   "pygments_lexer": "ipython3",
   "version": "3.5.2"
  }
 },
 "nbformat": 4,
 "nbformat_minor": 1
}
